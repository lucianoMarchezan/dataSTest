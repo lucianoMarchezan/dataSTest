{
 "nbformat": 4,
 "nbformat_minor": 0,
 "metadata": {
  "colab": {
   "provenance": []
  },
  "kernelspec": {
   "name": "python3",
   "display_name": "Python 3"
  },
  "language_info": {
   "name": "python"
  }
 },
 "cells": [
  {
   "cell_type": "code",
   "source": [
    "import pandas as pd\n",
    "\n",
    "# Load the CSV files\n",
    "group_df = pd.read_csv(\"group_repair_results.csv\")\n",
    "repair_df = pd.read_csv(\"repair_results.csv\")\n",
    "\n",
    "# Perform the join condition: total_repairs == repairs\n",
    "# Assuming both columns exist in respective files\n",
    "merged_df = group_df.merge(repair_df, left_on='total_repairs', right_on='repairs')\n",
    "\n",
    "# Group by 'cre' from repair_results (now in merged_df)\n",
    "grouped = merged_df.groupby('cre') \n",
    "\n",
    "# Compute the required statistics\n",
    "result_df = grouped.agg(\n",
    "    avg_repairs=('total_repairs', lambda x: round(x.mean(), 2)),\n",
    "    std_repairs=('total_repairs', lambda x: round(x.std(), 2)),\n",
    "    avg_over=('overlapping_repairs', lambda x: round(x.mean(), 2)),\n",
    "    std_over=('overlapping_repairs', lambda x: round(x.std(), 2)),\n",
    "    avg_conflicting=('conflicting_repairs', lambda x: round(x.mean(), 2)),\n",
    "    std_conflicting=('conflicting_repairs', lambda x: round(x.std(), 2)),\n",
    "    avg_shared_locations=('shared_locations', lambda x: round(x.mean(), 2)),\n",
    "    std_shared_locations=('shared_locations', lambda x: round(x.std(), 2))\n",
    ").reset_index()\n",
    "\n",
    "# Sort by 'cre'\n",
    "result_df = result_df.sort_values('cre')\n",
    "\n",
    "# Export to CSV\n",
    "# result_df.to_csv(\"merged_results.csv\", index=False)\n",
    "result_df.head(10)"
   ],
   "metadata": {
    "id": "Y9VyeAtRsx6I",
    "jupyter": {
     "is_executing": true
    }
   },
   "outputs": [],
   "execution_count": null
  },
  {
   "metadata": {
    "jupyter": {
     "is_executing": true
    }
   },
   "cell_type": "code",
   "source": "print(\"test\")",
   "outputs": [],
   "execution_count": null
  },
  {
   "metadata": {
    "jupyter": {
     "is_executing": true
    }
   },
   "cell_type": "code",
   "source": "print(\"Hello World\")\n",
   "outputs": [],
   "execution_count": null
  }
 ]
}
