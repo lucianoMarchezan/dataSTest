{
 "cells": [
  {
   "metadata": {
    "ExecuteTime": {
     "end_time": "2025-06-23T13:49:37.053773Z",
     "start_time": "2025-06-23T13:49:32.466778Z"
    }
   },
   "cell_type": "code",
   "source": [
    "import pandas as pd\n",
    "\n",
    "# Load CSV files\n",
    "group_df = pd.read_csv(\"data/group_repair_results.csv\")\n",
    "models_df = pd.read_csv(\"data/models.csv\")\n",
    "\n",
    "# Merge on model_name == name\n",
    "merged_df = group_df.merge(models_df, left_on='model_name', right_on='name')\n",
    "\n",
    "# Group by model_name to compute stats\n",
    "agg_df = merged_df.groupby('model_name').agg(\n",
    "    avg_repairs=('total_repairs', lambda x: round(x.mean(), 2)),\n",
    "    std_repairs=('total_repairs', lambda x: round(x.std(), 2)),\n",
    "    avg_over=('overlapping_repairs', lambda x: round(x.mean(), 2)),\n",
    "    std_over=('overlapping_repairs', lambda x: round(x.std(), 2)),\n",
    "    avg_conflicting=('conflicting_repairs', lambda x: round(x.mean(), 2)),\n",
    "    std_conflicting=('conflicting_repairs', lambda x: round(x.std(), 2)),\n",
    "    avg_shared_locations=('shared_locations', lambda x: round(x.mean(), 2)),\n",
    "    std_shared_locations=('shared_locations', lambda x: round(x.std(), 2))\n",
    ").reset_index()\n",
    "\n",
    "# Extract metadata: model_name -> ID and size (for sorting only)\n",
    "meta_info = models_df[['name', 'idsmodels', 'size']].rename(columns={'name': 'model_name', 'idsmodels': 'Id'})\n",
    "\n",
    "# Merge stats with metadata\n",
    "final_df = agg_df.merge(meta_info, on='model_name', how='left')\n",
    "\n",
    "# Sort by size descending, then drop size and model_name\n",
    "final_df = final_df.sort_values('size', ascending=False).drop(columns=['size', 'model_name'])\n",
    "\n",
    "# Reorder columns to have ID first\n",
    "cols = ['Id'] + [col for col in final_df.columns if col != 'Id']\n",
    "final_df = final_df[cols]\n",
    "\n",
    "# Export to LaTeX\n",
    "latex_table = final_df.to_latex(index=False, float_format=\"%.2f\", caption=\"Repair Statistics by Model\", label=\"tab:repair_stats\", column_format='l' + 'r' * (len(final_df.columns) - 1))\n",
    "\n",
    "# Save to .tex file\n",
    "with open(\"data/repair_statistics_table.tex\", \"w\") as f:\n",
    "    f.write(latex_table)\n",
    "\n",
    "print(\"LaTeX table saved to 'repair_statistics_table.tex'\")\n"
   ],
   "id": "fbc121e30a2defb3",
   "outputs": [
    {
     "name": "stdout",
     "output_type": "stream",
     "text": [
      "LaTeX table saved to 'repair_statistics_table.tex'\n"
     ]
    }
   ],
   "execution_count": 40
  }
 ],
 "metadata": {
  "kernelspec": {
   "display_name": "Python 3",
   "language": "python",
   "name": "python3"
  },
  "language_info": {
   "codemirror_mode": {
    "name": "ipython",
    "version": 2
   },
   "file_extension": ".py",
   "mimetype": "text/x-python",
   "name": "python",
   "nbconvert_exporter": "python",
   "pygments_lexer": "ipython2",
   "version": "2.7.6"
  }
 },
 "nbformat": 4,
 "nbformat_minor": 5
}
